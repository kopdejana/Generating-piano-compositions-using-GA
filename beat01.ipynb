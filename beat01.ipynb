{
 "cells": [
  {
   "cell_type": "code",
   "execution_count": 17,
   "id": "f6cc88d9-3cef-4b89-8b93-4b87719f41a4",
   "metadata": {},
   "outputs": [],
   "source": [
    "import random"
   ]
  },
  {
   "cell_type": "code",
   "execution_count": 18,
   "id": "f8b5ca93-6420-4bb6-9091-704b25230ca7",
   "metadata": {},
   "outputs": [],
   "source": [
    "tempo = 100"
   ]
  },
  {
   "cell_type": "code",
   "execution_count": 19,
   "id": "3c8f43bc-1155-4999-8339-20fb7c2b42fc",
   "metadata": {},
   "outputs": [],
   "source": [
    "def note_duration(note_length):\n",
    "    bar_duration = 60 / tempo * 4\n",
    "    return note_length * bar_duration"
   ]
  },
  {
   "cell_type": "code",
   "execution_count": 20,
   "id": "4a17e30e-7be7-44c7-91d4-7b7627b1ae84",
   "metadata": {},
   "outputs": [],
   "source": [
    "import pygame as pg\n",
    "import time\n",
    "from threading import Thread"
   ]
  },
  {
   "cell_type": "code",
   "execution_count": 21,
   "id": "03ee8eb9-e49d-45f4-9d74-c039e4d1dedd",
   "metadata": {},
   "outputs": [
    {
     "data": {
      "text/plain": [
       "(5, 0)"
      ]
     },
     "execution_count": 21,
     "metadata": {},
     "output_type": "execute_result"
    }
   ],
   "source": [
    "pg.mixer.init()\n",
    "pg.init()"
   ]
  },
  {
   "cell_type": "code",
   "execution_count": 22,
   "id": "ce63bfe2-9d3a-40c8-9ac2-5ace5fc62289",
   "metadata": {},
   "outputs": [],
   "source": [
    "def play_note():\n",
    "    pg.mixer.music.load(\"metronome.mp3\")\n",
    "    pg.mixer.music.play()\n",
    "    time.sleep(note_duration(1/8))"
   ]
  },
  {
   "cell_type": "code",
   "execution_count": 23,
   "id": "c835783f-3a82-4a48-8081-19e4c4908189",
   "metadata": {},
   "outputs": [],
   "source": [
    "def play(length, beat):\n",
    "    pg.mixer.set_num_channels(length)\n",
    "    th = {}\n",
    "    n = 0\n",
    "    for i in range(length):\n",
    "        if beat[i] == '0':\n",
    "            time.sleep(note_duration(1/8))\n",
    "            continue\n",
    "        th[n] = Thread(target=play_note)\n",
    "        th[n].start()\n",
    "        th[n].join()\n",
    "        n += 1"
   ]
  },
  {
   "cell_type": "markdown",
   "id": "3b4fdab5-116a-4972-8ad8-74fe5483e394",
   "metadata": {},
   "source": [
    "# Generisanje stringa"
   ]
  },
  {
   "cell_type": "code",
   "execution_count": 24,
   "id": "22c26903-97c5-4782-bbe9-0b888c07db32",
   "metadata": {},
   "outputs": [],
   "source": [
    "def generate_string_01(length,max_consecutive_zeros):\n",
    "    string='1'\n",
    "    consecutive_zeros=0\n",
    "    for _ in range(length-1):\n",
    "        bit=random.choice('01')\n",
    "        if bit=='0':\n",
    "            consecutive_zeros+=1\n",
    "            if consecutive_zeros>max_consecutive_zeros:\n",
    "                bit='1'\n",
    "                consecutive_zeros=0\n",
    "        else:\n",
    "            consecutive_zeros=0\n",
    "        \n",
    "        \n",
    "        string+=bit\n",
    "    return string"
   ]
  },
  {
   "cell_type": "markdown",
   "id": "f22a1fec-0513-45c3-bba7-90bc9419f0c2",
   "metadata": {},
   "source": [
    "# Genetski algoritam"
   ]
  },
  {
   "cell_type": "code",
   "execution_count": 25,
   "id": "5c05acf9-1862-4aa1-aa3b-1a73286889ac",
   "metadata": {},
   "outputs": [],
   "source": [
    "#ocena je fitnes samo\n",
    "def calculate_fitness(rating): \n",
    "    return rating"
   ]
  },
  {
   "cell_type": "code",
   "execution_count": 26,
   "id": "7aab4e21-6552-47ea-b3e6-a92fde233bb2",
   "metadata": {},
   "outputs": [],
   "source": [
    "def create_first_gen(population_size,string_length,max_consecutive_zeros):\n",
    "    return [generate_string_01(string_length,max_consecutive_zeros) for _ in range(population_size)]"
   ]
  },
  {
   "cell_type": "code",
   "execution_count": 27,
   "id": "c061e54f-151a-4719-8380-2ecaaa8f5598",
   "metadata": {},
   "outputs": [],
   "source": [
    "def crossover(parent1,parent2):\n",
    "    random_pos=random.randint(1,len(parent1)-1)\n",
    "\n",
    "    child1=parent1[:random_pos]+parent2[random_pos:]\n",
    "    child2=parent2[:random_pos]+parent2[random_pos:]\n",
    "\n",
    "    return child1,child2\n",
    "\n",
    "    "
   ]
  },
  {
   "cell_type": "markdown",
   "id": "82d2d2e8-a85d-410a-9a06-534db9f4f687",
   "metadata": {},
   "source": [
    "## Mutate funkcija\n"
   ]
  },
  {
   "cell_type": "code",
   "execution_count": 28,
   "id": "b5b788f7-db6c-49f9-a5f1-384552bd449d",
   "metadata": {},
   "outputs": [],
   "source": [
    "def mutate(individual,mutation_rate,max_consecutive_zeros):\n",
    "    mutated=''\n",
    "    consecutive_zeros=0\n",
    "    for bit in individual:\n",
    "        if random.random() < mutation_rate:\n",
    "            #ako je TRENUTNI bit 0 i ima vise 0 za redom nego max,menjamo ga u 1\n",
    "            if bit==\"0\" and consecutive_zeros>max_consecutive_zeros:\n",
    "                bit=\"1\"\n",
    "                mutated+=str(bit)\n",
    "                #moramo da resetujemo brojac uzastopnih sad jer nam je sad 1,pa da krene ispocetka od sledeceg\n",
    "                consecutive_zeros=0  \n",
    "            else: \n",
    "     \n",
    "                mutated += \"1\" if bit == \"0\" else \"0\"\n",
    "                consecutive_zeros = consecutive_zeros + 1 if bit == \"1\" else 0\n",
    "       \n",
    "        else:\n",
    "            mutated+=str(bit)\n",
    "            if bit==\"1\":\n",
    "                consecutive_zeros=0\n",
    "            else: \n",
    "                consecutive_zeros+=1\n",
    "\n",
    "\n",
    "    mutated= '1'+ mutated[1:]\n",
    "        \n",
    "    return mutated\n",
    "                "
   ]
  },
  {
   "cell_type": "code",
   "execution_count": 29,
   "id": "94c4b46e-c7ea-4d81-b1ae-5d27efcb5897",
   "metadata": {},
   "outputs": [],
   "source": [
    "\n",
    "#biramo random roditelje iz populacije,roulette\n",
    "def select_parents(population,fitness_scores):\n",
    "    total_fitness=sum(fitness_scores)\n",
    "    selection_probabilities=[score/total_fitness for score in fitness_scores]\n",
    "    #ovdje bira k=2 iz population koje ce da vrati kao roditelje,na osnovu skora koji je dobio\n",
    "    selected_indices=random.choices(range(len(population)),weights=selection_probabilities,k=2)\n",
    "    parent1=population[selected_indices[0]]\n",
    "    parent2=population[selected_indices[1]]\n",
    "\n",
    "    while True:\n",
    "        if parent1==parent2:\n",
    "            continue\n",
    "\n",
    "        else:\n",
    "            return parent1,parent2\n",
    "    \n",
    "   "
   ]
  },
  {
   "cell_type": "code",
   "execution_count": 30,
   "id": "db50fa3a-18d4-4c41-a9ec-ab7fa8fe4648",
   "metadata": {},
   "outputs": [],
   "source": [
    "def genetic_algorithm(string_length,population_size,mutation_rate,max_consecutive_zeros):   \n",
    "    #ovde ga samo inicijalizuje\n",
    "    population=create_first_gen(population_size,string_length,max_consecutive_zeros)\n",
    "    best_strings_rated_5 = [] \n",
    "   \n",
    "    overall_best_string = None\n",
    "    overall_best_fitness = 0\n",
    "\n",
    "    \n",
    "    best_string= None\n",
    "    best_fitness=0\n",
    "    second_best_string=None\n",
    "    second_best_fitness=0\n",
    "\n",
    "    #dok ga ne prekine user da ide\n",
    "    while True:\n",
    "        population_fitness={individual : 0 for individual in population}\n",
    "\n",
    "        for individual in population_fitness:\n",
    "            print(\"Beat \", individual, end=\": \")\n",
    "            play(string_length, individual)\n",
    "            population_fitness[individual]=calculate_fitness(int(input(f\"Rate: \")))\n",
    "\n",
    "             #ovde da nadjem overall najbolji,>= jer zelim da cuvam najnovijeg\n",
    "            if population_fitness[individual] >= overall_best_fitness:\n",
    "                overall_best_string = individual\n",
    "                overall_best_fitness = population_fitness[individual]\n",
    "\n",
    "            if population_fitness[individual]==5:\n",
    "                best_strings_rated_5.append(individual)\n",
    "            \n",
    "        sorted_population=sorted(population_fitness.items(),key=lambda item: item[1],reverse=True)\n",
    "        best_string, best_fitness = sorted_population[0]\n",
    "        second_best_string, second_best_fitness = sorted_population[1]\n",
    "\n",
    "        user_input = input(f\"Best string: {best_string}, Best fitness: {best_fitness}\\n\"\n",
    "                           f\"Second best string: {second_best_string}, Second best fitness: {second_best_fitness}\\n\"\n",
    "                           f\"Overall best string: {overall_best_string},Overall best fitness: {overall_best_fitness}\\n\"\n",
    "                           \"Continue to the next generation? (y/n): \")\n",
    "        if user_input.lower()!='y':\n",
    "                break\n",
    "\n",
    "        #dalje biramo roditelje za sledecu gen\n",
    "        fitness_scores= [population_fitness[individual] for individual in population]\n",
    " \n",
    "        parent1 , parent2=select_parents(population,fitness_scores)\n",
    "        child1,child2=crossover(parent1,parent2)\n",
    "        child1 = mutate(child1,mutation_rate,max_consecutive_zeros)\n",
    "        child2 = mutate(child2,mutation_rate,max_consecutive_zeros)\n",
    "\n",
    "        \n",
    " \n",
    "   \n",
    "        population = [child1, child2] + population[2:]\n",
    "\n",
    "       \n",
    "    return overall_best_string,overall_best_fitness,best_strings_rated_5      \n",
    "\n",
    "\n",
    "\n",
    " \n",
    "        \n",
    "        "
   ]
  },
  {
   "cell_type": "markdown",
   "id": "6854480e-0a46-4962-afac-7edc61e528d2",
   "metadata": {},
   "source": [
    "# Cuvanje najbolje ocenjenih stringova u txt fajl"
   ]
  },
  {
   "cell_type": "code",
   "execution_count": 31,
   "id": "7df9c02a-7127-497b-a13c-743e0a33dca8",
   "metadata": {},
   "outputs": [],
   "source": [
    "def save_strings_to_file(strings, filename):\n",
    "    with open(\"beats/\"+filename+\".txt\", 'w') as file:\n",
    "        for string in strings:\n",
    "            file.write(string + '\\n')"
   ]
  },
  {
   "cell_type": "markdown",
   "id": "080f2fcf-f770-4349-9734-37ad7d58705a",
   "metadata": {},
   "source": [
    "# Main\n"
   ]
  },
  {
   "cell_type": "code",
   "execution_count": 32,
   "id": "4013e6f1-37ec-4253-a96f-1cabf11bc58c",
   "metadata": {},
   "outputs": [
    {
     "name": "stdin",
     "output_type": "stream",
     "text": [
      "unesi broj karaktera u stringu 16\n",
      "unesi population size 5\n",
      "unesi max broj uzastopnih nula 3\n"
     ]
    },
    {
     "name": "stdout",
     "output_type": "stream",
     "text": [
      "Beat  1001111010010101: "
     ]
    },
    {
     "name": "stdin",
     "output_type": "stream",
     "text": [
      "Rate:  5\n"
     ]
    },
    {
     "name": "stdout",
     "output_type": "stream",
     "text": [
      "Beat  1100010010001110: "
     ]
    },
    {
     "name": "stdin",
     "output_type": "stream",
     "text": [
      "Rate:  4\n"
     ]
    },
    {
     "name": "stdout",
     "output_type": "stream",
     "text": [
      "Beat  1111000111110110: "
     ]
    },
    {
     "name": "stdin",
     "output_type": "stream",
     "text": [
      "Rate:  1\n"
     ]
    },
    {
     "name": "stdout",
     "output_type": "stream",
     "text": [
      "Beat  1101111011111111: "
     ]
    },
    {
     "name": "stdin",
     "output_type": "stream",
     "text": [
      "Rate:  1\n"
     ]
    },
    {
     "name": "stdout",
     "output_type": "stream",
     "text": [
      "Beat  1110111010101111: "
     ]
    },
    {
     "name": "stdin",
     "output_type": "stream",
     "text": [
      "Rate:  5\n",
      "Best string: 1001111010010101, Best fitness: 5\n",
      "Second best string: 1110111010101111, Second best fitness: 5\n",
      "Overall best string: 1110111010101111,Overall best fitness: 5\n",
      "Continue to the next generation? (y/n):  n\n"
     ]
    },
    {
     "name": "stdout",
     "output_type": "stream",
     "text": [
      "Best string: 1110111010101111, Best fitness: 5\n",
      "Strings rated with a 5:\n",
      "1001111010010101\n",
      "1110111010101111\n"
     ]
    },
    {
     "name": "stdin",
     "output_type": "stream",
     "text": [
      "File name:  primer1\n"
     ]
    },
    {
     "name": "stdout",
     "output_type": "stream",
     "text": [
      "saved to 'primer1'\n"
     ]
    }
   ],
   "source": [
    "if __name__ == \"__main__\":\n",
    "    string_length = int(input(\"unesi broj karaktera u stringu\"))\n",
    "    population_size = int(input(\"unesi population size\"))\n",
    "    mutation_rate = 0.7\n",
    "    max_consecutive_zeros = int(input(\"unesi max broj uzastopnih nula\"))\n",
    "    best_string, best_fitness,rated_5 = genetic_algorithm(string_length, population_size, mutation_rate, max_consecutive_zeros)\n",
    "    print(f\"Best string: {best_string}, Best fitness: {best_fitness}\")\n",
    "    print(\"Strings rated with a 5:\")\n",
    "    for string in rated_5:\n",
    "        print(string)\n",
    "\n",
    "    filename = input(\"File name: \")\n",
    "    save_strings_to_file(rated_5, filename)\n",
    "    print(f\"saved to '{filename}'\")\n",
    "\n"
   ]
  },
  {
   "cell_type": "code",
   "execution_count": null,
   "id": "98e638c5-ee81-4fc4-b6eb-ecd830de635f",
   "metadata": {},
   "outputs": [],
   "source": []
  },
  {
   "cell_type": "code",
   "execution_count": null,
   "id": "66c9d666-e0a6-40b6-9b42-fd3821158e61",
   "metadata": {},
   "outputs": [],
   "source": []
  }
 ],
 "metadata": {
  "kernelspec": {
   "display_name": "Python 3 (ipykernel)",
   "language": "python",
   "name": "python3"
  },
  "language_info": {
   "codemirror_mode": {
    "name": "ipython",
    "version": 3
   },
   "file_extension": ".py",
   "mimetype": "text/x-python",
   "name": "python",
   "nbconvert_exporter": "python",
   "pygments_lexer": "ipython3",
   "version": "3.10.12"
  },
  "widgets": {
   "application/vnd.jupyter.widget-state+json": {
    "state": {},
    "version_major": 2,
    "version_minor": 0
   }
  }
 },
 "nbformat": 4,
 "nbformat_minor": 5
}
