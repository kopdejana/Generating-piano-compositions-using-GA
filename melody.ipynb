{
 "cells": [
  {
   "cell_type": "code",
   "execution_count": 77,
   "id": "d4e117cb-289e-4509-b9ed-553d5b5d82c8",
   "metadata": {},
   "outputs": [],
   "source": [
    "tempo = 150"
   ]
  },
  {
   "cell_type": "code",
   "execution_count": 78,
   "id": "50b0cb3b-8001-4f0a-8b10-1276e5c3b9ba",
   "metadata": {},
   "outputs": [],
   "source": [
    "beat = [1, 1/4, 1/4, 1, 1/2, 1/2]"
   ]
  },
  {
   "cell_type": "code",
   "execution_count": 79,
   "id": "06858227-02ab-4b3e-bb83-715364bca040",
   "metadata": {},
   "outputs": [],
   "source": [
    "def note_duration(note_length):\n",
    "    bar_duration = 60 / tempo * 4\n",
    "    return note_length * bar_duration"
   ]
  },
  {
   "cell_type": "code",
   "execution_count": 80,
   "id": "20eaa332-b740-4e37-8eb5-ce82ab805f92",
   "metadata": {},
   "outputs": [],
   "source": [
    "import pygame as pg\n",
    "import time\n",
    "from threading import Thread"
   ]
  },
  {
   "cell_type": "code",
   "execution_count": 81,
   "id": "d358039d-f819-446e-80fd-3857c4c1498e",
   "metadata": {},
   "outputs": [
    {
     "data": {
      "text/plain": [
       "(5, 0)"
      ]
     },
     "execution_count": 81,
     "metadata": {},
     "output_type": "execute_result"
    }
   ],
   "source": [
    "pg.mixer.init()\n",
    "pg.init()"
   ]
  },
  {
   "cell_type": "code",
   "execution_count": 82,
   "id": "fc8cac37-f0fe-49e2-bd38-e8bbdc6c6e70",
   "metadata": {},
   "outputs": [],
   "source": [
    "def path(note):\n",
    "    return \"Piano/\" + note + \".wav\""
   ]
  },
  {
   "cell_type": "code",
   "execution_count": 83,
   "id": "b5af7be7-ed4d-46f5-bede-1532ff4636f7",
   "metadata": {},
   "outputs": [],
   "source": [
    "def play_note(note, duration):\n",
    "    pg.mixer.music.load(path(note))\n",
    "    pg.mixer.music.play()\n",
    "    time.sleep(note_duration(duration))"
   ]
  },
  {
   "cell_type": "code",
   "execution_count": 84,
   "id": "d6910ec8-0fd0-4ec6-b07e-fcfc19dde624",
   "metadata": {},
   "outputs": [],
   "source": [
    "notes = ['c4', 'e4', 'g4', 'c5', 'e5', 'g5']\n",
    "melody = []\n",
    "for i in range(len(beat)):\n",
    "    melody.append([notes[i], beat[i]])"
   ]
  },
  {
   "cell_type": "code",
   "execution_count": 85,
   "id": "ea5a29b0-c59a-4b69-81b5-4185c3cd48ca",
   "metadata": {},
   "outputs": [],
   "source": [
    "pg.mixer.set_num_channels(len(melody))"
   ]
  },
  {
   "cell_type": "code",
   "execution_count": 86,
   "id": "ab407961-2bb3-44d3-8f6a-62cebd0c7b87",
   "metadata": {},
   "outputs": [],
   "source": [
    "th = {}\n",
    "n = 0\n",
    "\n",
    "for i in melody:\n",
    "    th[n] = Thread(target=play_note, args=(i[0], i[1]))\n",
    "    th[n].start()\n",
    "    th[n].join()\n",
    "    n += 1"
   ]
  }
 ],
 "metadata": {
  "kernelspec": {
   "display_name": "Python 3 (ipykernel)",
   "language": "python",
   "name": "python3"
  },
  "language_info": {
   "codemirror_mode": {
    "name": "ipython",
    "version": 3
   },
   "file_extension": ".py",
   "mimetype": "text/x-python",
   "name": "python",
   "nbconvert_exporter": "python",
   "pygments_lexer": "ipython3",
   "version": "3.10.12"
  }
 },
 "nbformat": 4,
 "nbformat_minor": 5
}
