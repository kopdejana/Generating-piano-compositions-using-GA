{
 "cells": [
  {
   "cell_type": "code",
   "execution_count": 51,
   "id": "f6cc88d9-3cef-4b89-8b93-4b87719f41a4",
   "metadata": {},
   "outputs": [],
   "source": [
    "import random"
   ]
  },
  {
   "cell_type": "code",
   "execution_count": 52,
   "id": "88084ac2-1ea0-48b6-8d3a-d79d238bc795",
   "metadata": {},
   "outputs": [],
   "source": [
    "def generate_string_01(length,max_consecutive_zeros):\n",
    "    string=''\n",
    "    consecutive_zeros=0\n",
    "    for _ in range(length):\n",
    "        bit=random.choice('01')\n",
    "        if bit=='0':\n",
    "            consecutive_zeros+=1\n",
    "            if consecutive_zeros>max_consecutive_zeros:\n",
    "                bit='1'\n",
    "                consecutive_zeros=0\n",
    "        else:\n",
    "            consecutive_zeros=0\n",
    "        \n",
    "        \n",
    "        string+=bit\n",
    "    return string"
   ]
  },
  {
   "cell_type": "code",
   "execution_count": 53,
   "id": "5c05acf9-1862-4aa1-aa3b-1a73286889ac",
   "metadata": {},
   "outputs": [],
   "source": [
    "#ocena je fitnes samo\n",
    "def calculate_fitness(rating): \n",
    "    return rating"
   ]
  },
  {
   "cell_type": "code",
   "execution_count": 54,
   "id": "7aab4e21-6552-47ea-b3e6-a92fde233bb2",
   "metadata": {},
   "outputs": [],
   "source": [
    "def create_first_gen(population_size,string_length,max_consecutive_zeros):\n",
    "    return [generate_string_01(string_length,max_consecutive_zeros) for _ in range(population_size)]"
   ]
  },
  {
   "cell_type": "code",
   "execution_count": 55,
   "id": "c061e54f-151a-4719-8380-2ecaaa8f5598",
   "metadata": {},
   "outputs": [],
   "source": [
    "def crossover(parent1,parent2):\n",
    "    random_pos=random.randint(1,len(parent1)-1)\n",
    "\n",
    "    child1=parent1[:random_pos]+parent2[random_pos:]\n",
    "    child2=parent2[:random_pos]+parent2[random_pos:]\n",
    "\n",
    "    return child1,child2\n",
    "\n",
    "    "
   ]
  },
  {
   "cell_type": "code",
   "execution_count": 67,
   "id": "b5b788f7-db6c-49f9-a5f1-384552bd449d",
   "metadata": {},
   "outputs": [],
   "source": [
    "def mutate(individual,mutation_rate,max_consecutive_zeros):\n",
    "    mutated=''\n",
    "    consecutive_zeros=0\n",
    "    for bit in individual:\n",
    "        if random.random() < mutation_rate:\n",
    "            #ako je TRENUTNI bit 0 i ima vise 0 za redom nego max,menjamo ga u 1\n",
    "            if bit=='0' and consecutive_zeros>max_consecutive_zeros:\n",
    "                bit='1'\n",
    "                mutated+=bit\n",
    "                #moramo da resetujemo brojac uzastopnih sad jer nam je sad 1,pa da krene ispocetka od sledeceg\n",
    "                consecutive_zeros=0  \n",
    "            else: \n",
    "     \n",
    "                mutated += '1' if bit == '0' else '0'\n",
    "                consecutive_zeros = consecutive_zeros + 1 if bit == '1' else 0\n",
    "       \n",
    "        else:\n",
    "            mutated+=bit\n",
    "            if bit=='1':\n",
    "                consecutive_zeros=0\n",
    "            else: \n",
    "                consecutive_zeros+=1\n",
    "    return mutated\n",
    "                "
   ]
  },
  {
   "cell_type": "code",
   "execution_count": 68,
   "id": "94c4b46e-c7ea-4d81-b1ae-5d27efcb5897",
   "metadata": {},
   "outputs": [],
   "source": [
    "\n",
    "#biramo random roditelje iz populacije,roulette\n",
    "def select_parents(population,fitness_scores):\n",
    "    total_fitness=sum(fitness_scores)\n",
    "    selection_probabilities=[score/total_fitness for score in fitness_scores]\n",
    "    #ovdje bira k=2 iz population koje ce da vrati kao roditelje,na osnovu skora koji je dobio\n",
    "    #selected_indices=[parent1,parent2]\n",
    "    selected_indices=random.choices(range(len(population)),weights=selection_probabilities,k=2)\n",
    "    return population[selected_indices[0]],population[selected_indices[1]]\n",
    "    "
   ]
  },
  {
   "cell_type": "code",
   "execution_count": 69,
   "id": "db50fa3a-18d4-4c41-a9ec-ab7fa8fe4648",
   "metadata": {},
   "outputs": [],
   "source": [
    "def genetic_algorithm(string_length,population_size,mutation_rate,max_consecutive_zeros):   \n",
    "    #ovde ga samo inicijalizuje\n",
    "    population=create_first_gen(population_size,string_length,max_consecutive_zeros)\n",
    "    best_strings_rated_5 = [] \n",
    "    #mapa k=jedinka v=ocena\n",
    "    population_fitness={individual : 0 for individual in population}\n",
    "\n",
    "    overall_best_string = None\n",
    "    overall_best_fitness = 0\n",
    "\n",
    "    \n",
    "    best_string= None\n",
    "    best_fitness=0\n",
    "    second_best_string=None\n",
    "    second_best_fitness=0\n",
    "\n",
    "    #dok ga ne prekine user da ide\n",
    "    while True:\n",
    "        for individual in population_fitness:\n",
    "            population_fitness[individual]=calculate_fitness(int(input(f\"Rate {individual}\")))\n",
    "\n",
    "             #ovde da nadjem overall najbolji,>= jer zelim da cuvam najnovijeg\n",
    "            if population_fitness[individual] >= overall_best_fitness:\n",
    "                overall_best_string = individual\n",
    "                overall_best_fitness = population_fitness[individual]\n",
    "\n",
    "            if population_fitness[individual]==5:\n",
    "                best_strings_rated_5.append(individual)\n",
    "    \n",
    "        #uzima prva dva jer je silazno sortirano max..min tu mi je bila greska sad cuva najbolje ovde,\n",
    "        #a dole kad pravim novu generaciju sortiram od najgoreg do najboljeg da mi lakse da skinem najgora 2\n",
    "        #i stavim tu decu,ovde se svakako opet sortira pa ne brinem dalje o redosledu\n",
    "          \n",
    "        sorted_population=sorted(population_fitness.items(),key=lambda item: item[1],reverse=True)\n",
    "        best_string, best_fitness = sorted_population[0]\n",
    "        second_best_string, second_best_fitness = sorted_population[1]\n",
    "\n",
    "        #ovde pita da l zeli da nastavi,da ide u iducu generaciju\n",
    "        user_input = input(f\"Best string: {best_string}, Best fitness: {best_fitness}\\n\"\n",
    "                           f\"Second best string: {second_best_string}, Second best fitness: {second_best_fitness}\\n\"\n",
    "                           f\"Overall best string: {overall_best_string},Overall best fitness: {overall_best_fitness}\\n\"\n",
    "                           \"Continue to the next generation? (y/n): \")\n",
    "        if user_input.lower()!='y':\n",
    "                break\n",
    "\n",
    "        #dalje biramo roditelje za sledecu gen\n",
    "\n",
    "        parents=select_parents(population,[population_fitness[individual] for individual in population])\n",
    "        child1,child2=crossover(parents[0],parents[1])\n",
    "\n",
    "        child1 = mutate(child1,mutation_rate,max_consecutive_zeros)\n",
    "        child2 = mutate(child2,mutation_rate,max_consecutive_zeros)\n",
    "\n",
    "        #zamijeni sve osim dva najbolja iz prosle generacije,oni su na kraju \n",
    "       #population=[child1,child2]+population[:2]  ovo nije bilo dobro zato sam imala ruzne rezultate\n",
    "       #cak sam i pogresno stavila treba 2: hahahahah\n",
    "        #ovde sad znaci mice 2 najgora i na njihovo mesto stavi djecu\n",
    "      \n",
    "        population = [child1, child2] + [individual for individual, _ in sorted_population[2:]]\n",
    "\n",
    "\n",
    "    return overall_best_string,overall_best_fitness,best_strings_rated_5      \n",
    "##AAAAAAA fixed it sad mi za kraj cuva najbolje <333\n",
    "\n",
    "\n",
    "\n",
    " \n",
    "        \n",
    "        "
   ]
  },
  {
   "cell_type": "code",
   "execution_count": 70,
   "id": "4013e6f1-37ec-4253-a96f-1cabf11bc58c",
   "metadata": {},
   "outputs": [
    {
     "name": "stdin",
     "output_type": "stream",
     "text": [
      "unesi broj karaktera u stringu 20\n",
      "unesi population size 10\n",
      "unesi max broj uzastopnih nula 2\n",
      "Rate 01111001001101001011 2\n",
      "Rate 10111001111101100111 2\n",
      "Rate 01110011001001111110 2\n",
      "Rate 10010011001010110010 4\n",
      "Rate 01110011001100101010 5\n",
      "Rate 01001110011101001100 6\n",
      "Rate 01011100110010101010 5\n",
      "Rate 10010010100101110011 5\n",
      "Rate 00111001111001111010 4\n",
      "Rate 10010011111010011111 3\n",
      "Best string: 01001110011101001100, Best fitness: 6\n",
      "Second best string: 01110011001100101010, Second best fitness: 5\n",
      "Overall best string: 01001110011101001100,Overall best fitness: 6\n",
      "Continue to the next generation? (y/n):  y\n",
      "Rate 01111001001101001011 5\n",
      "Rate 10111001111101100111 1\n",
      "Rate 01110011001001111110 1\n",
      "Rate 10010011001010110010 1\n",
      "Rate 01110011001100101010 \n"
     ]
    },
    {
     "ename": "ValueError",
     "evalue": "invalid literal for int() with base 10: ''",
     "output_type": "error",
     "traceback": [
      "\u001b[0;31m---------------------------------------------------------------------------\u001b[0m",
      "\u001b[0;31mValueError\u001b[0m                                Traceback (most recent call last)",
      "Cell \u001b[0;32mIn[70], line 6\u001b[0m\n\u001b[1;32m      4\u001b[0m mutation_rate \u001b[38;5;241m=\u001b[39m \u001b[38;5;241m0.2\u001b[39m\n\u001b[1;32m      5\u001b[0m max_consecutive_zeros \u001b[38;5;241m=\u001b[39m \u001b[38;5;28mint\u001b[39m(\u001b[38;5;28minput\u001b[39m(\u001b[38;5;124m\"\u001b[39m\u001b[38;5;124munesi max broj uzastopnih nula\u001b[39m\u001b[38;5;124m\"\u001b[39m))\n\u001b[0;32m----> 6\u001b[0m best_string, best_fitness,rated_5 \u001b[38;5;241m=\u001b[39m \u001b[43mgenetic_algorithm\u001b[49m\u001b[43m(\u001b[49m\u001b[43mstring_length\u001b[49m\u001b[43m,\u001b[49m\u001b[43m \u001b[49m\u001b[43mpopulation_size\u001b[49m\u001b[43m,\u001b[49m\u001b[43m \u001b[49m\u001b[43mmutation_rate\u001b[49m\u001b[43m,\u001b[49m\u001b[43m \u001b[49m\u001b[43mmax_consecutive_zeros\u001b[49m\u001b[43m)\u001b[49m\n\u001b[1;32m      7\u001b[0m \u001b[38;5;28mprint\u001b[39m(\u001b[38;5;124mf\u001b[39m\u001b[38;5;124m\"\u001b[39m\u001b[38;5;124mBest string: \u001b[39m\u001b[38;5;132;01m{\u001b[39;00mbest_string\u001b[38;5;132;01m}\u001b[39;00m\u001b[38;5;124m, Best fitness: \u001b[39m\u001b[38;5;132;01m{\u001b[39;00mbest_fitness\u001b[38;5;132;01m}\u001b[39;00m\u001b[38;5;124m\"\u001b[39m)\n\u001b[1;32m      8\u001b[0m \u001b[38;5;28mprint\u001b[39m(\u001b[38;5;124m\"\u001b[39m\u001b[38;5;124mStrings rated with a 5:\u001b[39m\u001b[38;5;124m\"\u001b[39m)\n",
      "Cell \u001b[0;32mIn[69], line 20\u001b[0m, in \u001b[0;36mgenetic_algorithm\u001b[0;34m(string_length, population_size, mutation_rate, max_consecutive_zeros)\u001b[0m\n\u001b[1;32m     18\u001b[0m \u001b[38;5;28;01mwhile\u001b[39;00m \u001b[38;5;28;01mTrue\u001b[39;00m:\n\u001b[1;32m     19\u001b[0m     \u001b[38;5;28;01mfor\u001b[39;00m individual \u001b[38;5;129;01min\u001b[39;00m population_fitness:\n\u001b[0;32m---> 20\u001b[0m         population_fitness[individual]\u001b[38;5;241m=\u001b[39mcalculate_fitness(\u001b[38;5;28;43mint\u001b[39;49m\u001b[43m(\u001b[49m\u001b[38;5;28;43minput\u001b[39;49m\u001b[43m(\u001b[49m\u001b[38;5;124;43mf\u001b[39;49m\u001b[38;5;124;43m\"\u001b[39;49m\u001b[38;5;124;43mRate \u001b[39;49m\u001b[38;5;132;43;01m{\u001b[39;49;00m\u001b[43mindividual\u001b[49m\u001b[38;5;132;43;01m}\u001b[39;49;00m\u001b[38;5;124;43m\"\u001b[39;49m\u001b[43m)\u001b[49m\u001b[43m)\u001b[49m)\n\u001b[1;32m     22\u001b[0m          \u001b[38;5;66;03m#ovde da nadjem overall najbolji,>= jer zelim da cuvam najnovijeg\u001b[39;00m\n\u001b[1;32m     23\u001b[0m         \u001b[38;5;28;01mif\u001b[39;00m population_fitness[individual] \u001b[38;5;241m>\u001b[39m\u001b[38;5;241m=\u001b[39m overall_best_fitness:\n",
      "\u001b[0;31mValueError\u001b[0m: invalid literal for int() with base 10: ''"
     ]
    }
   ],
   "source": [
    "if __name__ == \"__main__\":\n",
    "    string_length = int(input(\"unesi broj karaktera u stringu\"))\n",
    "    population_size = int(input(\"unesi population size\"))\n",
    "    mutation_rate = 0.2\n",
    "    max_consecutive_zeros = int(input(\"unesi max broj uzastopnih nula\"))\n",
    "    best_string, best_fitness,rated_5 = genetic_algorithm(string_length, population_size, mutation_rate, max_consecutive_zeros)\n",
    "    print(f\"Best string: {best_string}, Best fitness: {best_fitness}\")\n",
    "    print(\"Strings rated with a 5:\")\n",
    "    for string in rated_5:\n",
    "        print(string)\n",
    "  \n"
   ]
  },
  {
   "cell_type": "code",
   "execution_count": null,
   "id": "98e638c5-ee81-4fc4-b6eb-ecd830de635f",
   "metadata": {},
   "outputs": [],
   "source": []
  },
  {
   "cell_type": "code",
   "execution_count": null,
   "id": "66c9d666-e0a6-40b6-9b42-fd3821158e61",
   "metadata": {},
   "outputs": [],
   "source": []
  }
 ],
 "metadata": {
  "kernelspec": {
   "display_name": "Python 3 (ipykernel)",
   "language": "python",
   "name": "python3"
  },
  "language_info": {
   "codemirror_mode": {
    "name": "ipython",
    "version": 3
   },
   "file_extension": ".py",
   "mimetype": "text/x-python",
   "name": "python",
   "nbconvert_exporter": "python",
   "pygments_lexer": "ipython3",
   "version": "3.8.10"
  },
  "widgets": {
   "application/vnd.jupyter.widget-state+json": {
    "state": {},
    "version_major": 2,
    "version_minor": 0
   }
  }
 },
 "nbformat": 4,
 "nbformat_minor": 5
}
