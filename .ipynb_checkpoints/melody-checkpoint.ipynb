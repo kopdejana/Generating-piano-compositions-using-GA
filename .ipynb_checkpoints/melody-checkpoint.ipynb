{
 "cells": [
  {
   "cell_type": "markdown",
   "id": "26b365f6-304b-49f0-b832-24d3a8122c87",
   "metadata": {},
   "source": [
    "# Ovde ide dobijeni beat"
   ]
  },
  {
   "cell_type": "code",
   "execution_count": null,
   "id": "afa1ec9c-49ff-4d02-8bc7-48969ffa7616",
   "metadata": {},
   "outputs": [],
   "source": [
    "import random"
   ]
  },
  {
   "cell_type": "code",
   "execution_count": null,
   "id": "d4e117cb-289e-4509-b9ed-553d5b5d82c8",
   "metadata": {},
   "outputs": [],
   "source": [
    "tempo = 90"
   ]
  },
  {
   "cell_type": "code",
   "execution_count": null,
   "id": "10aa4aab-8425-4b90-9442-867bd3f8c29e",
   "metadata": {},
   "outputs": [],
   "source": [
    "def calculate_weights(string):  \n",
    "    weights = []\n",
    "    current_weight = 1/8\n",
    "\n",
    "    index = 1\n",
    "    while index < len(string):\n",
    "        if string[index] == '1':\n",
    "            weights.append(current_weight)\n",
    "            current_weight = 1/8\n",
    "        elif string[index] == '0':\n",
    "            current_weight += 1/8\n",
    "        index += 1\n",
    "    if index==len(string):\n",
    "            weights.append(current_weight)\n",
    "    \n",
    "    return weights"
   ]
  },
  {
   "cell_type": "code",
   "execution_count": null,
   "id": "7ad258af-d231-4757-a1c1-8b4ed718ac21",
   "metadata": {},
   "outputs": [],
   "source": [
    "def calculate_weights_from_file(filename):\n",
    "    all_weights = []\n",
    "\n",
    "    with open(\"beats/\"+filename+\".txt\", 'r') as file:\n",
    "        for line in file:\n",
    "            string = line.strip() \n",
    "            weights = calculate_weights(string)\n",
    "            all_weights.append(weights)\n",
    "\n",
    "    return all_weights\n"
   ]
  },
  {
   "cell_type": "code",
   "execution_count": null,
   "id": "4f5af3d2-2269-4129-b88f-b0a8aca647f1",
   "metadata": {},
   "outputs": [],
   "source": [
    "filename = input(\"Beats file name (without extension): \")\n",
    "beats=calculate_weights_from_file(filename)\n",
    "print(beats)"
   ]
  },
  {
   "cell_type": "code",
   "execution_count": null,
   "id": "50b0cb3b-8001-4f0a-8b10-1276e5c3b9ba",
   "metadata": {},
   "outputs": [],
   "source": [
    "# Primer beat-a\n",
    "#beats = [\n",
    "#    [1/4, 1/8, 1/8, 1/4, 1/8, 1/8, 1/4, 1/8, 1/8, 1/2],\n",
    "#    [1/4, 1/8, 1/8, 1/4, 1/4, 3/8, 1/8, 1/2],\n",
    "#   [1/2, 1/2, 1/4, 1/8, 1/8, 1/4, 1/8, 3/8]\n",
    "#]\n",
    "# Ovde ce biti sacuvana izabrana lestvica\n",
    "scale = []"
   ]
  },
  {
   "cell_type": "markdown",
   "id": "7192f744-8746-42ae-83d2-d2b180c72df4",
   "metadata": {},
   "source": [
    "# Potrebna muzicka teorija"
   ]
  },
  {
   "cell_type": "code",
   "execution_count": null,
   "id": "06858227-02ab-4b3e-bb83-715364bca040",
   "metadata": {},
   "outputs": [],
   "source": [
    "def note_duration(note_length):\n",
    "    bar_duration = 60 / tempo * 4\n",
    "    return note_length * bar_duration"
   ]
  },
  {
   "cell_type": "code",
   "execution_count": null,
   "id": "a4bdfb60-1cbd-4eb8-80d8-6c31bd12f02c",
   "metadata": {},
   "outputs": [],
   "source": [
    "# Keys\n",
    "#              0    1     2    3     4    5     6    7    8     9    10    11\n",
    "piano_keys = ['c', 'cs', 'd', 'ds', 'e', 'f', 'fs', 'g', 'gs', 'a', 'as', 'b']\n",
    "\n",
    "# Modes\n",
    "modes = {\n",
    "    \"major\" : [0, 2, 4, 5, 7, 9, 11],\n",
    "    \"minor\" : [0, 2, 3, 5, 7, 8, 10]\n",
    "}"
   ]
  },
  {
   "cell_type": "code",
   "execution_count": null,
   "id": "ba82a778-6da0-4494-b6e7-6014ec148bad",
   "metadata": {},
   "outputs": [],
   "source": [
    "# Note u skali\n",
    "def scale(root, mode):\n",
    "    scl = []\n",
    "    n = piano_keys.index(root)\n",
    "\n",
    "    for i in modes[mode]:\n",
    "        scl.append(piano_keys[(i+n)%12])\n",
    "\n",
    "    return scl"
   ]
  },
  {
   "cell_type": "code",
   "execution_count": null,
   "id": "78fb1be5-d6a9-498a-9139-bddec602c48f",
   "metadata": {},
   "outputs": [],
   "source": [
    "for mode in modes:\n",
    "    for key in piano_keys:\n",
    "        print(key + \" \" + mode + \": \", scale(key, mode))"
   ]
  },
  {
   "cell_type": "markdown",
   "id": "dcedf6a5-1783-4f6c-a37a-d0abdaada95b",
   "metadata": {},
   "source": [
    "# Sviranje dobijene melodije"
   ]
  },
  {
   "cell_type": "code",
   "execution_count": null,
   "id": "20eaa332-b740-4e37-8eb5-ce82ab805f92",
   "metadata": {},
   "outputs": [],
   "source": [
    "import pygame as pg\n",
    "import time\n",
    "from threading import Thread"
   ]
  },
  {
   "cell_type": "code",
   "execution_count": null,
   "id": "d358039d-f819-446e-80fd-3857c4c1498e",
   "metadata": {},
   "outputs": [],
   "source": [
    "pg.mixer.init()\n",
    "pg.init()"
   ]
  },
  {
   "cell_type": "code",
   "execution_count": null,
   "id": "fc8cac37-f0fe-49e2-bd38-e8bbdc6c6e70",
   "metadata": {},
   "outputs": [],
   "source": [
    "def path(note):\n",
    "    return \"Piano/\" + note + \".wav\""
   ]
  },
  {
   "cell_type": "code",
   "execution_count": null,
   "id": "b5af7be7-ed4d-46f5-bede-1532ff4636f7",
   "metadata": {},
   "outputs": [],
   "source": [
    "def play_note(note, duration):\n",
    "    pg.mixer.music.load(path(note))\n",
    "    pg.mixer.music.play()\n",
    "    time.sleep(note_duration(duration))"
   ]
  },
  {
   "cell_type": "markdown",
   "id": "742d47ce-b039-4473-906d-6bf7f0744a95",
   "metadata": {},
   "source": [
    "# Klasa Melody"
   ]
  },
  {
   "cell_type": "code",
   "execution_count": null,
   "id": "4d8c4e6b-b9f7-49b4-850b-c130009e77b2",
   "metadata": {},
   "outputs": [],
   "source": [
    "import random"
   ]
  },
  {
   "cell_type": "code",
   "execution_count": null,
   "id": "4a2ff00a-18fd-4b55-bf78-892c0ad27d0d",
   "metadata": {},
   "outputs": [],
   "source": [
    "class Melody:\n",
    "\n",
    "    def __init__(self, beats):\n",
    "        self.notes = self.generate_melody(random.choice(beats))\n",
    "        self.fitness = self.calc_fitness()\n",
    "\n",
    "    def generate_melody(self, beat):\n",
    "        notes = []\n",
    "        for i in range(len(beat)):\n",
    "            octave = random.randint(4,5)\n",
    "            note = note = random.choice(scale)\n",
    "            note = note + str(octave)\n",
    "            notes.append([note, beat[i]])\n",
    "        return notes\n",
    "\n",
    "    def print(self):\n",
    "        for note in self.notes:\n",
    "            print(note[0], end=\" \")\n",
    "        print()\n",
    "\n",
    "    def play(self):\n",
    "        print(\"Melody\", end=\" \")\n",
    "        self.print()\n",
    "        pg.mixer.set_num_channels(len(self.notes))\n",
    "        th = {}\n",
    "        n = 0\n",
    "        for i in self.notes:\n",
    "            th[n] = Thread(target=play_note, args=(i[0], i[1]))\n",
    "            th[n].start()\n",
    "            th[n].join()\n",
    "            n += 1\n",
    "\n",
    "    def calc_fitness(self):\n",
    "        self.play()\n",
    "        rating = int(input(\"Rating: \"))\n",
    "        print()\n",
    "        return rating"
   ]
  },
  {
   "cell_type": "markdown",
   "id": "7506220d-2371-4209-90cd-fcba2e182c16",
   "metadata": {},
   "source": [
    "# Genetic Algorithm"
   ]
  },
  {
   "cell_type": "code",
   "execution_count": null,
   "id": "1a5e62d6-a279-4fd3-9648-43b4107252db",
   "metadata": {},
   "outputs": [],
   "source": [
    "def selection(population, tournament_size):\n",
    "    chosen = random.sample(population, tournament_size)\n",
    "    return max(chosen, key=lambda x: x.fitness)"
   ]
  },
  {
   "cell_type": "code",
   "execution_count": null,
   "id": "51512177-758f-4b81-ab7b-ae4cdfd0f03a",
   "metadata": {},
   "outputs": [],
   "source": [
    "def crossover(parent1, parent2, child1, child2):\n",
    "    \n",
    "    random_pos = random.randrange(0, len(parent1.notes))\n",
    "    \n",
    "    child1.notes[:random_pos] = parent1.notes[:random_pos]\n",
    "    child1.notes[random_pos:] = parent2.notes[random_pos:]\n",
    "    \n",
    "    child2.notes[:random_pos] = parent2.notes[:random_pos]\n",
    "    child2.notes[random_pos:] = parent1.notes[random_pos:]"
   ]
  },
  {
   "cell_type": "code",
   "execution_count": null,
   "id": "e8f1f96d-f2d5-4a2a-89c5-a5e9cb15ad83",
   "metadata": {},
   "outputs": [],
   "source": [
    "def mutation(melody, mutation_prob):\n",
    "    for i in range(len(melody.notes)):\n",
    "        prob = random.random()\n",
    "        if prob < mutation_prob:\n",
    "            new_note = random.choice(scale)\n",
    "            octave = random.randint(4,5)\n",
    "            melody.notes[i][0] = new_note+str(octave)"
   ]
  },
  {
   "cell_type": "code",
   "execution_count": null,
   "id": "9a39f0b6-0f85-411a-8f7a-9011ba64d45a",
   "metadata": {},
   "outputs": [],
   "source": [
    "def genetic_algorithm(\n",
    "    num_bars=8, \n",
    "    scale_root=\"c\", \n",
    "    scale_mode=\"major\", \n",
    "    population_size=10,\n",
    "    elitism_size=2, \n",
    "    tournament_size=2, \n",
    "    mutation_probability=0.5\n",
    "):\n",
    "\n",
    "    genId = 1\n",
    "    print(\"GENERATION \" + str(genId))\n",
    "    print()\n",
    "    population = [Melody(beats) for _ in range(population_size)]\n",
    "    new_population = population.copy()\n",
    "\n",
    "    while True:\n",
    "\n",
    "        if input(\"Next generation? [y/n]: \") == 'n':\n",
    "            break\n",
    "\n",
    "        genId += 1\n",
    "        print(\"GENERATION \" + str(genId))\n",
    "        print()\n",
    "        \n",
    "        population.sort(key=lambda x: x.fitness, reverse=True)\n",
    "        new_population[:elitism_size] = population[:elitism_size]\n",
    "        \n",
    "        for j in range(elitism_size, population_size, 2):\n",
    "            \n",
    "            parent1 = selection(population, tournament_size)\n",
    "            parent2 = selection(population, tournament_size)\n",
    "            \n",
    "            crossover(parent1, parent2, child1=new_population[j], child2=new_population[j+1])\n",
    "    \n",
    "            mutation(new_population[j], mutation_probability)\n",
    "            mutation(new_population[j+1], mutation_probability)\n",
    "            \n",
    "            new_population[j].fitness = new_population[j].calc_fitness()\n",
    "            new_population[j+1].fitness = new_population[j+1].calc_fitness()\n",
    "    \n",
    "        population = new_population.copy()\n",
    "        \n",
    "    population.sort(key=lambda x: x.fitness, reverse=True)\n",
    "    return population[:8]"
   ]
  },
  {
   "cell_type": "markdown",
   "id": "89d98d66-ced6-44bf-ae0d-fb07f03dd0da",
   "metadata": {},
   "source": [
    "# Main"
   ]
  },
  {
   "cell_type": "code",
   "execution_count": null,
   "id": "b37ebe09-fbbf-4fc3-9f08-51df9f6b812c",
   "metadata": {},
   "outputs": [],
   "source": [
    "def save_melody(fileName, melodies):\n",
    "    with open(\"melodies/\" + fileName + \".txt\", 'w') as f:\n",
    "        for melody in melodies:\n",
    "            for note in melody.notes:\n",
    "                f.write(note[0] + \" \" + str(note[1]) + \" \")\n",
    "            f.write(\"\\n\")"
   ]
  },
  {
   "cell_type": "code",
   "execution_count": null,
   "id": "c1735b17-94e4-4b51-98d5-0181a84b4298",
   "metadata": {},
   "outputs": [],
   "source": [
    "scale_root = input(\"Scale root [ex. c for C, cs for C#]: \")\n",
    "scale_mode = input(\"Scale mode [ex. major, minor]: \")\n",
    "scale = scale(scale_root, scale_mode)"
   ]
  },
  {
   "cell_type": "code",
   "execution_count": null,
   "id": "763751af-42ab-4904-b022-531e2a70fd6f",
   "metadata": {},
   "outputs": [],
   "source": [
    "melodies = genetic_algorithm()"
   ]
  },
  {
   "cell_type": "code",
   "execution_count": null,
   "id": "bb96542b-d8a7-44fa-bb33-9b96d1e377a5",
   "metadata": {},
   "outputs": [],
   "source": [
    "for melody in melodies:\n",
    "    melody.play()"
   ]
  },
  {
   "cell_type": "code",
   "execution_count": null,
   "id": "69736f36-bc9a-4583-9807-df85e008c792",
   "metadata": {},
   "outputs": [],
   "source": [
    "ans = input(\"Do you want to save this melody? [y/n]: \")\n",
    "if ans == \"y\":\n",
    "    fileName = input(\"File name (without the extension): \")\n",
    "    save_melody(fileName, melodies)"
   ]
  }
 ],
 "metadata": {
  "kernelspec": {
   "display_name": "Python 3 (ipykernel)",
   "language": "python",
   "name": "python3"
  },
  "language_info": {
   "codemirror_mode": {
    "name": "ipython",
    "version": 3
   },
   "file_extension": ".py",
   "mimetype": "text/x-python",
   "name": "python",
   "nbconvert_exporter": "python",
   "pygments_lexer": "ipython3",
   "version": "3.10.12"
  },
  "widgets": {
   "application/vnd.jupyter.widget-state+json": {
    "state": {},
    "version_major": 2,
    "version_minor": 0
   }
  }
 },
 "nbformat": 4,
 "nbformat_minor": 5
}
