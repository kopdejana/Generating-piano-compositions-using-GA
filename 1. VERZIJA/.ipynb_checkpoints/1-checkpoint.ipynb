{
 "cells": [
  {
   "cell_type": "markdown",
   "id": "77f222e9-9a1b-476a-9ac8-fff09e895bf5",
   "metadata": {},
   "source": [
    "# Potrebna muzicka teorija"
   ]
  },
  {
   "cell_type": "code",
   "execution_count": null,
   "id": "114342ab-1b3d-4985-b4ee-e4e9c55f6b4b",
   "metadata": {},
   "outputs": [],
   "source": [
    "# Keys\n",
    "#              0    1     2    3     4    5     6    7    8     9    10    11\n",
    "piano_keys = ['c', 'cs', 'd', 'ds', 'e', 'f', 'fs', 'g', 'gs', 'a', 'as', 'b']\n",
    "\n",
    "# Modes\n",
    "modes = {\n",
    "    \"major\" : [0, 2, 4, 5, 7, 9, 11],\n",
    "    \"minor\" : [0, 2, 3, 5, 7, 8, 10]\n",
    "}"
   ]
  },
  {
   "cell_type": "code",
   "execution_count": null,
   "id": "05a7d7ab-e419-41b1-8d29-372e4d670f04",
   "metadata": {},
   "outputs": [],
   "source": [
    "# Trajanje note u sekundama\n",
    "def note_duration(tempo, note_length):\n",
    "    bar_duration = 60 / tempo * 4\n",
    "    return note_length * bar_duration"
   ]
  },
  {
   "cell_type": "code",
   "execution_count": null,
   "id": "7be84612-0bf1-4237-b623-23f6daa564eb",
   "metadata": {},
   "outputs": [],
   "source": [
    "# Note u skali\n",
    "def scale(root, mode):\n",
    "    scl = []\n",
    "    n = piano_keys.index(root)\n",
    "\n",
    "    for i in modes[mode]:\n",
    "        scl.append(piano_keys[(i+n)%12])\n",
    "\n",
    "    return scl"
   ]
  },
  {
   "cell_type": "markdown",
   "id": "c2c8ba4b-4184-4b6c-82c4-43f1d770dd05",
   "metadata": {},
   "source": [
    "# Sviranje dobijene melodije"
   ]
  },
  {
   "cell_type": "code",
   "execution_count": null,
   "id": "599e4571-16a7-4ff7-8664-b78d815f66f8",
   "metadata": {},
   "outputs": [],
   "source": [
    "import pygame as pg\n",
    "import time\n",
    "from threading import Thread"
   ]
  },
  {
   "cell_type": "code",
   "execution_count": null,
   "id": "1784b5cd-0596-4f8b-a2cc-2f3b774ef6cc",
   "metadata": {},
   "outputs": [],
   "source": [
    "pg.mixer.init()\n",
    "pg.init()"
   ]
  },
  {
   "cell_type": "code",
   "execution_count": null,
   "id": "065776b7-2bce-46a3-8af5-679c115cb01e",
   "metadata": {},
   "outputs": [],
   "source": [
    "def path(note):\n",
    "    # return 'Notes/' + note[-1] + '-' + note[:-1] + '.wav'\n",
    "    return 'Piano/' + note + '.wav'"
   ]
  },
  {
   "cell_type": "code",
   "execution_count": null,
   "id": "7ee17057-20be-44d1-b6a5-1d8098c08861",
   "metadata": {},
   "outputs": [],
   "source": [
    "def play_note(note, duration, volume):\n",
    "    pg.mixer.music.set_volume(volume)\n",
    "    pg.mixer.music.load(path(note))\n",
    "    pg.mixer.music.play()\n",
    "    time.sleep(note_duration(150, duration))"
   ]
  },
  {
   "cell_type": "markdown",
   "id": "8c3e71d7-6e6f-42a0-a0a8-d426d6605a18",
   "metadata": {},
   "source": [
    "# Genetski algoritam"
   ]
  },
  {
   "cell_type": "code",
   "execution_count": null,
   "id": "abeb4688-91fa-4181-9022-81b48ffea79a",
   "metadata": {},
   "outputs": [],
   "source": [
    "import random"
   ]
  },
  {
   "cell_type": "code",
   "execution_count": null,
   "id": "559e2c2a-0feb-45bc-8435-b3b39bb3a021",
   "metadata": {},
   "outputs": [],
   "source": [
    "class Melody:\n",
    "\n",
    "    def __init__(self, num_bars, scale_root, scale_mode):\n",
    "        self.num_bars = num_bars\n",
    "        self.scale_root = scale_root\n",
    "        self.scale_mode = scale_mode\n",
    "        self.notes_in_scale = []\n",
    "        self.notes = self.generate_melody()\n",
    "        self.fitness = self.calc_fitness()\n",
    "\n",
    "    def generate_melody(self):\n",
    "        n = 0\n",
    "        notes = []\n",
    "        self.notes_in_scale = scale(self.scale_root, self.scale_mode)\n",
    "        while n < self.num_bars:\n",
    "            #octave = random.randint(3,6)\n",
    "            octave = 5\n",
    "            note = random.choice(self.notes_in_scale)\n",
    "            length = min(self.num_bars - n, random.choice([1, 1/2, 1/4, 1/8, 3/4, 3/8]))\n",
    "            n += length\n",
    "            volume = random.random()\n",
    "            notes.append([note+str(octave), length, volume])\n",
    "\n",
    "        return notes\n",
    "\n",
    "    def play(self):\n",
    "        pg.mixer.set_num_channels(len(self.notes))\n",
    "        th = {}\n",
    "        n = 0\n",
    "        for i in self.notes:\n",
    "            th[n] = Thread(target=play_note, args=(i[0], i[1], 1))\n",
    "            th[n].start()\n",
    "            th[n].join()\n",
    "            n += 1\n",
    "            \n",
    "\n",
    "    def calc_fitness(self):\n",
    "        self.play()\n",
    "        rating = int(input(\"Rating [0-5]: \"))\n",
    "        return rating"
   ]
  },
  {
   "cell_type": "code",
   "execution_count": null,
   "id": "ee40fb4b-d4a9-4aa2-a187-9ce691903224",
   "metadata": {},
   "outputs": [],
   "source": [
    "def selection(population, tournament_size):\n",
    "    chosen = random.sample(population, tournament_size)\n",
    "    return max(chosen, key=lambda x: x.fitness)"
   ]
  },
  {
   "cell_type": "code",
   "execution_count": null,
   "id": "9acae821-3129-4248-ada6-542490ab190e",
   "metadata": {},
   "outputs": [],
   "source": [
    "def crossover(parent1, parent2, child1, child2):\n",
    "    \n",
    "    random_pos = random.randrange(0, len(parent1.notes))\n",
    "    \n",
    "    child1.notes[:random_pos] = parent1.notes[:random_pos]\n",
    "    child1.notes[random_pos:] = parent2.notes[random_pos:]\n",
    "    \n",
    "    child2.notes[:random_pos] = parent2.notes[:random_pos]\n",
    "    child2.notes[random_pos:] = parent1.notes[random_pos:]"
   ]
  },
  {
   "cell_type": "code",
   "execution_count": null,
   "id": "b07560cd-862e-4d1b-9243-9d2db5b1d286",
   "metadata": {},
   "outputs": [],
   "source": [
    "def mutation(melody, mutation_prob):\n",
    "    for i in range(len(melody.notes)):\n",
    "        prob = random.random()\n",
    "        if prob < mutation_prob:\n",
    "            new_note = random.choice(melody.notes_in_scale)\n",
    "            #octave = random.randint(3,6)\n",
    "            melody.notes[i][0] = new_note+str(5)"
   ]
  },
  {
   "cell_type": "code",
   "execution_count": null,
   "id": "36d2473e-08d3-41a9-90bf-241786551de2",
   "metadata": {},
   "outputs": [],
   "source": [
    "def genetic_algorithm(num_bars=8, scale_root=\"c\", scale_mode=\"major\", population_size=4, num_generations=4, \n",
    "                      elitism_size=2, tournament_size=2, mutation_probability=0.5):\n",
    "\n",
    "    population = [Melody(num_bars, scale_root, scale_mode) for _ in range(population_size)]\n",
    "    new_population = population.copy()\n",
    "\n",
    "    for i in range(num_generations):\n",
    "        \n",
    "        population.sort(key=lambda x: x.fitness, reverse=True)\n",
    "        new_population[:elitism_size] = population[:elitism_size]\n",
    "        \n",
    "        for j in range(elitism_size, population_size, 2):\n",
    "            \n",
    "            parent1 = selection(population, tournament_size)\n",
    "            parent2 = selection(population, tournament_size)\n",
    "            \n",
    "            crossover(parent1, parent2, child1=new_population[j], child2=new_population[j+1])\n",
    "    \n",
    "            mutation(new_population[j], mutation_probability)\n",
    "            mutation(new_population[j+1], mutation_probability)\n",
    "            \n",
    "            new_population[j].fitness = new_population[j].calc_fitness()\n",
    "            new_population[j+1].fitness = new_population[j+1].calc_fitness()\n",
    "    \n",
    "        population = new_population.copy()\n",
    "\n",
    "    return max(population, key=lambda x: x.fitness)"
   ]
  },
  {
   "cell_type": "markdown",
   "id": "2caf7bc4-35d8-4fb1-b0e5-b1ecbd8823fa",
   "metadata": {},
   "source": [
    "# Main"
   ]
  },
  {
   "cell_type": "code",
   "execution_count": null,
   "id": "2459b431-a720-46d4-96ec-175e53083652",
   "metadata": {},
   "outputs": [],
   "source": [
    "scale_root = input(\"Scale root [ex. c (for C), cs (for C#)]: \")\n",
    "scale_mode = input(\"Scale mode [major or minor]: \")\n",
    "num_bars = int(input(\"Number of bars: \"))\n",
    "\n",
    "melody = genetic_algorithm(num_bars=num_bars, scale_root=scale_root, scale_mode=scale_mode)"
   ]
  },
  {
   "cell_type": "code",
   "execution_count": null,
   "id": "2ccddd2d-c93f-4e7a-973f-f4c60e347f7b",
   "metadata": {},
   "outputs": [],
   "source": [
    "melody.play()"
   ]
  },
  {
   "cell_type": "code",
   "execution_count": null,
   "id": "6f120f6f-253c-44ba-9354-264a69a8826f",
   "metadata": {},
   "outputs": [],
   "source": []
  }
 ],
 "metadata": {
  "kernelspec": {
   "display_name": "Python 3 (ipykernel)",
   "language": "python",
   "name": "python3"
  },
  "language_info": {
   "codemirror_mode": {
    "name": "ipython",
    "version": 3
   },
   "file_extension": ".py",
   "mimetype": "text/x-python",
   "name": "python",
   "nbconvert_exporter": "python",
   "pygments_lexer": "ipython3",
   "version": "3.10.12"
  }
 },
 "nbformat": 4,
 "nbformat_minor": 5
}
