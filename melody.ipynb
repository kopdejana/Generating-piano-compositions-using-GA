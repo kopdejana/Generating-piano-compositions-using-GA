{
 "cells": [
  {
   "cell_type": "markdown",
   "id": "26b365f6-304b-49f0-b832-24d3a8122c87",
   "metadata": {},
   "source": [
    "# Ovde ide dobijeni beat"
   ]
  },
  {
   "cell_type": "code",
   "execution_count": 182,
   "id": "d4e117cb-289e-4509-b9ed-553d5b5d82c8",
   "metadata": {},
   "outputs": [],
   "source": [
    "tempo = 150"
   ]
  },
  {
   "cell_type": "code",
   "execution_count": 183,
   "id": "50b0cb3b-8001-4f0a-8b10-1276e5c3b9ba",
   "metadata": {},
   "outputs": [],
   "source": [
    "beat = [1, 1, 1, 1, 1, 1, 1]"
   ]
  },
  {
   "cell_type": "markdown",
   "id": "7192f744-8746-42ae-83d2-d2b180c72df4",
   "metadata": {},
   "source": [
    "# Potrebna muzicka teorija"
   ]
  },
  {
   "cell_type": "code",
   "execution_count": 184,
   "id": "06858227-02ab-4b3e-bb83-715364bca040",
   "metadata": {},
   "outputs": [],
   "source": [
    "def note_duration(note_length):\n",
    "    bar_duration = 60 / tempo * 4\n",
    "    return note_length * bar_duration"
   ]
  },
  {
   "cell_type": "code",
   "execution_count": 185,
   "id": "a4bdfb60-1cbd-4eb8-80d8-6c31bd12f02c",
   "metadata": {},
   "outputs": [],
   "source": [
    "# Keys\n",
    "#              0    1     2    3     4    5     6    7    8     9    10    11\n",
    "piano_keys = ['c', 'cs', 'd', 'ds', 'e', 'f', 'fs', 'g', 'gs', 'a', 'as', 'b']\n",
    "\n",
    "# Modes\n",
    "modes = {\n",
    "    \"major\" : [0, 2, 4, 5, 7, 9, 11],\n",
    "    \"minor\" : [0, 2, 3, 5, 7, 8, 10]\n",
    "}"
   ]
  },
  {
   "cell_type": "code",
   "execution_count": 186,
   "id": "ba82a778-6da0-4494-b6e7-6014ec148bad",
   "metadata": {},
   "outputs": [],
   "source": [
    "# Note u skali\n",
    "def scale(root, mode):\n",
    "    scl = []\n",
    "    n = piano_keys.index(root)\n",
    "\n",
    "    for i in modes[mode]:\n",
    "        scl.append(piano_keys[(i+n)%12])\n",
    "\n",
    "    return scl"
   ]
  },
  {
   "cell_type": "code",
   "execution_count": 187,
   "id": "78fb1be5-d6a9-498a-9139-bddec602c48f",
   "metadata": {},
   "outputs": [
    {
     "name": "stdout",
     "output_type": "stream",
     "text": [
      "c major:  ['c', 'd', 'e', 'f', 'g', 'a', 'b']\n",
      "cs major:  ['cs', 'ds', 'f', 'fs', 'gs', 'as', 'c']\n",
      "d major:  ['d', 'e', 'fs', 'g', 'a', 'b', 'cs']\n",
      "ds major:  ['ds', 'f', 'g', 'gs', 'as', 'c', 'd']\n",
      "e major:  ['e', 'fs', 'gs', 'a', 'b', 'cs', 'ds']\n",
      "f major:  ['f', 'g', 'a', 'as', 'c', 'd', 'e']\n",
      "fs major:  ['fs', 'gs', 'as', 'b', 'cs', 'ds', 'f']\n",
      "g major:  ['g', 'a', 'b', 'c', 'd', 'e', 'fs']\n",
      "gs major:  ['gs', 'as', 'c', 'cs', 'ds', 'f', 'g']\n",
      "a major:  ['a', 'b', 'cs', 'd', 'e', 'fs', 'gs']\n",
      "as major:  ['as', 'c', 'd', 'ds', 'f', 'g', 'a']\n",
      "b major:  ['b', 'cs', 'ds', 'e', 'fs', 'gs', 'as']\n",
      "c minor:  ['c', 'd', 'ds', 'f', 'g', 'gs', 'as']\n",
      "cs minor:  ['cs', 'ds', 'e', 'fs', 'gs', 'a', 'b']\n",
      "d minor:  ['d', 'e', 'f', 'g', 'a', 'as', 'c']\n",
      "ds minor:  ['ds', 'f', 'fs', 'gs', 'as', 'b', 'cs']\n",
      "e minor:  ['e', 'fs', 'g', 'a', 'b', 'c', 'd']\n",
      "f minor:  ['f', 'g', 'gs', 'as', 'c', 'cs', 'ds']\n",
      "fs minor:  ['fs', 'gs', 'a', 'b', 'cs', 'd', 'e']\n",
      "g minor:  ['g', 'a', 'as', 'c', 'd', 'ds', 'f']\n",
      "gs minor:  ['gs', 'as', 'b', 'cs', 'ds', 'e', 'fs']\n",
      "a minor:  ['a', 'b', 'c', 'd', 'e', 'f', 'g']\n",
      "as minor:  ['as', 'c', 'cs', 'ds', 'f', 'fs', 'gs']\n",
      "b minor:  ['b', 'cs', 'd', 'e', 'fs', 'g', 'a']\n"
     ]
    }
   ],
   "source": [
    "for mode in modes:\n",
    "    for key in piano_keys:\n",
    "        print(key + \" \" + mode + \": \", scale(key, mode))"
   ]
  },
  {
   "cell_type": "markdown",
   "id": "dcedf6a5-1783-4f6c-a37a-d0abdaada95b",
   "metadata": {},
   "source": [
    "# Sviranje dobijene melodije"
   ]
  },
  {
   "cell_type": "code",
   "execution_count": 188,
   "id": "20eaa332-b740-4e37-8eb5-ce82ab805f92",
   "metadata": {},
   "outputs": [],
   "source": [
    "import pygame as pg\n",
    "import time\n",
    "from threading import Thread"
   ]
  },
  {
   "cell_type": "code",
   "execution_count": 189,
   "id": "d358039d-f819-446e-80fd-3857c4c1498e",
   "metadata": {},
   "outputs": [
    {
     "data": {
      "text/plain": [
       "(5, 0)"
      ]
     },
     "execution_count": 189,
     "metadata": {},
     "output_type": "execute_result"
    }
   ],
   "source": [
    "pg.mixer.init()\n",
    "pg.init()"
   ]
  },
  {
   "cell_type": "code",
   "execution_count": 190,
   "id": "fc8cac37-f0fe-49e2-bd38-e8bbdc6c6e70",
   "metadata": {},
   "outputs": [],
   "source": [
    "def path(note):\n",
    "    return \"Piano/\" + note + \".wav\""
   ]
  },
  {
   "cell_type": "code",
   "execution_count": 191,
   "id": "b5af7be7-ed4d-46f5-bede-1532ff4636f7",
   "metadata": {},
   "outputs": [],
   "source": [
    "def play_note(note, duration):\n",
    "    pg.mixer.music.load(path(note))\n",
    "    pg.mixer.music.play()\n",
    "    time.sleep(note_duration(duration))"
   ]
  },
  {
   "cell_type": "code",
   "execution_count": 192,
   "id": "f69f9120-7d05-4f2c-bfc9-4a0a5ecfc4eb",
   "metadata": {},
   "outputs": [
    {
     "name": "stdout",
     "output_type": "stream",
     "text": [
      "c major:  ['c', 'd', 'e', 'f', 'g', 'a', 'b']\n",
      "cs major:  ['cs', 'ds', 'f', 'fs', 'gs', 'as', 'c']\n",
      "d major:  ['d', 'e', 'fs', 'g', 'a', 'b', 'cs']\n",
      "ds major:  ['ds', 'f', 'g', 'gs', 'as', 'c', 'd']\n",
      "e major:  ['e', 'fs', 'gs', 'a', 'b', 'cs', 'ds']\n",
      "f major:  ['f', 'g', 'a', 'as', 'c', 'd', 'e']\n",
      "fs major:  ['fs', 'gs', 'as', 'b', 'cs', 'ds', 'f']\n",
      "g major:  ['g', 'a', 'b', 'c', 'd', 'e', 'fs']\n",
      "gs major:  ['gs', 'as', 'c', 'cs', 'ds', 'f', 'g']\n",
      "a major:  ['a', 'b', 'cs', 'd', 'e', 'fs', 'gs']\n",
      "as major:  ['as', 'c', 'd', 'ds', 'f', 'g', 'a']\n",
      "b major:  ['b', 'cs', 'ds', 'e', 'fs', 'gs', 'as']\n",
      "c minor:  ['c', 'd', 'ds', 'f', 'g', 'gs', 'as']\n",
      "cs minor:  ['cs', 'ds', 'e', 'fs', 'gs', 'a', 'b']\n",
      "d minor:  ['d', 'e', 'f', 'g', 'a', 'as', 'c']\n",
      "ds minor:  ['ds', 'f', 'fs', 'gs', 'as', 'b', 'cs']\n",
      "e minor:  ['e', 'fs', 'g', 'a', 'b', 'c', 'd']\n",
      "f minor:  ['f', 'g', 'gs', 'as', 'c', 'cs', 'ds']\n",
      "fs minor:  ['fs', 'gs', 'a', 'b', 'cs', 'd', 'e']\n",
      "g minor:  ['g', 'a', 'as', 'c', 'd', 'ds', 'f']\n",
      "gs minor:  ['gs', 'as', 'b', 'cs', 'ds', 'e', 'fs']\n",
      "a minor:  ['a', 'b', 'c', 'd', 'e', 'f', 'g']\n",
      "as minor:  ['as', 'c', 'cs', 'ds', 'f', 'fs', 'gs']\n",
      "b minor:  ['b', 'cs', 'd', 'e', 'fs', 'g', 'a']\n"
     ]
    }
   ],
   "source": [
    "for mode in modes:\n",
    "    for key in piano_keys:\n",
    "        print(key + \" \" + mode + \": \", scale(key, mode))\n",
    "        notes = scale(key, mode)\n",
    "        melody = []\n",
    "        for i in range(len(beat)):\n",
    "            melody.append([notes[i]+str(4), beat[i]/4])\n",
    "        pg.mixer.set_num_channels(len(melody))\n",
    "        th = {}\n",
    "        n = 0\n",
    "        for i in melody:\n",
    "            th[n] = Thread(target=play_note, args=(i[0], i[1]))\n",
    "            th[n].start()\n",
    "            th[n].join()\n",
    "            n += 1\n",
    "        time.sleep(1/2)"
   ]
  }
 ],
 "metadata": {
  "kernelspec": {
   "display_name": "Python 3 (ipykernel)",
   "language": "python",
   "name": "python3"
  },
  "language_info": {
   "codemirror_mode": {
    "name": "ipython",
    "version": 3
   },
   "file_extension": ".py",
   "mimetype": "text/x-python",
   "name": "python",
   "nbconvert_exporter": "python",
   "pygments_lexer": "ipython3",
   "version": "3.10.12"
  }
 },
 "nbformat": 4,
 "nbformat_minor": 5
}
