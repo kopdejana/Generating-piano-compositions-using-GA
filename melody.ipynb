{
 "cells": [
  {
   "cell_type": "code",
   "execution_count": 23,
   "id": "20eaa332-b740-4e37-8eb5-ce82ab805f92",
   "metadata": {},
   "outputs": [],
   "source": [
    "import pygame as pg"
   ]
  },
  {
   "cell_type": "code",
   "execution_count": 24,
   "id": "d358039d-f819-446e-80fd-3857c4c1498e",
   "metadata": {},
   "outputs": [
    {
     "data": {
      "text/plain": [
       "(5, 0)"
      ]
     },
     "execution_count": 24,
     "metadata": {},
     "output_type": "execute_result"
    }
   ],
   "source": [
    "pg.mixer.init()\n",
    "pg.init()"
   ]
  },
  {
   "cell_type": "code",
   "execution_count": 25,
   "id": "fc8cac37-f0fe-49e2-bd38-e8bbdc6c6e70",
   "metadata": {},
   "outputs": [],
   "source": [
    "def path(note):\n",
    "    return \"Piano/\" + note + \".wav\""
   ]
  },
  {
   "cell_type": "code",
   "execution_count": 26,
   "id": "b5af7be7-ed4d-46f5-bede-1532ff4636f7",
   "metadata": {},
   "outputs": [],
   "source": [
    "def play_note(note):\n",
    "    pg.mixer.music.load(path(note))\n",
    "    pg.mixer.music.play()"
   ]
  },
  {
   "cell_type": "code",
   "execution_count": 27,
   "id": "ea5a29b0-c59a-4b69-81b5-4185c3cd48ca",
   "metadata": {},
   "outputs": [],
   "source": [
    "pg.mixer.set_num_channels(1)"
   ]
  },
  {
   "cell_type": "code",
   "execution_count": 30,
   "id": "ab407961-2bb3-44d3-8f6a-62cebd0c7b87",
   "metadata": {},
   "outputs": [],
   "source": [
    "play_note('fs4')"
   ]
  }
 ],
 "metadata": {
  "kernelspec": {
   "display_name": "Python 3 (ipykernel)",
   "language": "python",
   "name": "python3"
  },
  "language_info": {
   "codemirror_mode": {
    "name": "ipython",
    "version": 3
   },
   "file_extension": ".py",
   "mimetype": "text/x-python",
   "name": "python",
   "nbconvert_exporter": "python",
   "pygments_lexer": "ipython3",
   "version": "3.10.12"
  }
 },
 "nbformat": 4,
 "nbformat_minor": 5
}
