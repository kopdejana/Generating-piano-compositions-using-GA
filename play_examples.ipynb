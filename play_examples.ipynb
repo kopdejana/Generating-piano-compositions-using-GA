{
 "cells": [
  {
   "cell_type": "code",
   "execution_count": null,
   "id": "180e79c0-a098-412c-8956-4ff8133bc680",
   "metadata": {},
   "outputs": [],
   "source": [
    "tempo = 90"
   ]
  },
  {
   "cell_type": "code",
   "execution_count": null,
   "id": "fd9655bc-f79e-4f73-8e55-d61925a546b2",
   "metadata": {},
   "outputs": [],
   "source": [
    "def note_duration(note_length):\n",
    "    bar_duration = 60 / tempo * 4\n",
    "    return note_length * bar_duration"
   ]
  },
  {
   "cell_type": "code",
   "execution_count": null,
   "id": "0e6d5bfd-28dc-4f45-aa0f-52c11f938e6b",
   "metadata": {},
   "outputs": [],
   "source": [
    "import pygame as pg\n",
    "import time\n",
    "from threading import Thread"
   ]
  },
  {
   "cell_type": "code",
   "execution_count": null,
   "id": "d45d6fad-d912-4ebb-a3e1-04e2a5ba6eee",
   "metadata": {},
   "outputs": [],
   "source": [
    "pg.mixer.init()\n",
    "pg.init()"
   ]
  },
  {
   "cell_type": "code",
   "execution_count": null,
   "id": "fd9cd487-f2be-40eb-aa8b-590739862686",
   "metadata": {},
   "outputs": [],
   "source": [
    "def path(note):\n",
    "    return \"Piano/\" + note + \".wav\""
   ]
  },
  {
   "cell_type": "code",
   "execution_count": null,
   "id": "2908fe3a-cd20-4741-bb22-2df6438b2056",
   "metadata": {},
   "outputs": [],
   "source": [
    "def play_note(note, duration):\n",
    "    pg.mixer.music.load(path(note))\n",
    "    pg.mixer.music.play()\n",
    "    time.sleep(note_duration(duration))"
   ]
  },
  {
   "cell_type": "code",
   "execution_count": null,
   "id": "5ad670db-8508-4cff-abd6-cf3b4b6d8aab",
   "metadata": {},
   "outputs": [],
   "source": [
    "def play(melody):\n",
    "    pg.mixer.set_num_channels(len(melody))\n",
    "    th = {}\n",
    "    n = 0\n",
    "    for i in melody:\n",
    "        th[n] = Thread(target=play_note, args=(i[0], i[1]))\n",
    "        th[n].start()\n",
    "        th[n].join()\n",
    "        n += 1"
   ]
  },
  {
   "cell_type": "code",
   "execution_count": null,
   "id": "1d3c4d27-b303-45b1-a769-b87bb3a0996c",
   "metadata": {},
   "outputs": [],
   "source": [
    "def load_melody(filename):\n",
    "    result = []\n",
    "    with open(\"melodies/\" + filename + \".txt\", \"r\") as f:\n",
    "        for line in f:\n",
    "            line_melody = []\n",
    "            words = line.split()\n",
    "            n = 0\n",
    "            while n < len(words):\n",
    "                line_melody.append([words[n], float(words[n+1])])\n",
    "                n += 2\n",
    "            result.append(line_melody)\n",
    "\n",
    "    return result"
   ]
  },
  {
   "cell_type": "code",
   "execution_count": null,
   "id": "3dc88e87-97f9-458d-ab75-a24d26620ca5",
   "metadata": {},
   "outputs": [],
   "source": [
    "filename = input(\"Melody file name (without extension): \")\n",
    "loaded_melody = load_melody(filename)"
   ]
  },
  {
   "cell_type": "code",
   "execution_count": null,
   "id": "d6d115a2-88a3-4b1a-adce-377456513702",
   "metadata": {},
   "outputs": [],
   "source": [
    "for melody in loaded_melody:\n",
    "    play(melody)"
   ]
  }
 ],
 "metadata": {
  "kernelspec": {
   "display_name": "Python 3 (ipykernel)",
   "language": "python",
   "name": "python3"
  },
  "language_info": {
   "codemirror_mode": {
    "name": "ipython",
    "version": 3
   },
   "file_extension": ".py",
   "mimetype": "text/x-python",
   "name": "python",
   "nbconvert_exporter": "python",
   "pygments_lexer": "ipython3",
   "version": "3.10.12"
  }
 },
 "nbformat": 4,
 "nbformat_minor": 5
}
